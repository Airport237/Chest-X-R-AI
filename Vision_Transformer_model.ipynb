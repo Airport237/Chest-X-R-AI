{
 "cells": [
  {
   "metadata": {
    "ExecuteTime": {
     "end_time": "2025-04-21T16:18:04.994688Z",
     "start_time": "2025-04-21T16:18:04.984058Z"
    }
   },
   "cell_type": "code",
   "source": [
    "import random\n",
    "import numpy as np\n",
    "import torch\n",
    "import torch.nn as nn\n",
    "import torch.optim as optim\n",
    "import deeplake\n",
    "import timm\n",
    "import matplotlib.pyplot as plt\n",
    "\n",
    "from torchvision import transforms\n",
    "from sklearn.metrics import accuracy_score, f1_score, hamming_loss, roc_auc_score\n",
    "from tqdm.auto import tqdm\n",
    "\n",
    "# reproducibility\n",
    "random.seed(42)\n",
    "np.random.seed(42)\n",
    "torch.manual_seed(42)\n",
    "\n",
    "device = torch.device(\"cuda\" if torch.cuda.is_available() else \"cpu\")\n",
    "print(f\"Using device: {device}\")"
   ],
   "id": "13855c9c51a40fdf",
   "outputs": [
    {
     "name": "stdout",
     "output_type": "stream",
     "text": [
      "Using device: cpu\n"
     ]
    }
   ],
   "execution_count": 34
  },
  {
   "metadata": {
    "ExecuteTime": {
     "end_time": "2025-04-21T16:18:33.205558Z",
     "start_time": "2025-04-21T16:18:13.109536Z"
    }
   },
   "cell_type": "code",
   "source": [
    "ds_train = deeplake.load('hub://activeloop/nih-chest-xray-train')\n",
    "ds_test  = deeplake.load('hub://activeloop/nih-chest-xray-test')\n",
    "print(\"Available tensors:\", list(ds_train.tensors.keys()))\n",
    "\n",
    "label_field = 'findings'\n",
    "n_classes   = 15\n",
    "\n",
    "def get_class_counts(ds, field, n):\n",
    "    cnt = np.zeros(n, int)\n",
    "    for lbl in ds[field].numpy(aslist=True):\n",
    "        for c in lbl:\n",
    "            cnt[int(c)] += 1\n",
    "    return cnt\n",
    "\n",
    "train_counts = get_class_counts(ds_train, label_field, n_classes)\n",
    "test_counts  = get_class_counts(ds_test,  label_field, n_classes)\n",
    "\n",
    "plt.figure(figsize=(12,5))\n",
    "plt.subplot(1,2,1)\n",
    "plt.bar(range(n_classes), train_counts)\n",
    "plt.title(\"Original Train Counts\")\n",
    "plt.xlabel(\"Class\"); plt.ylabel(\"Count\")\n",
    "plt.subplot(1,2,2)\n",
    "plt.bar(range(n_classes), test_counts)\n",
    "plt.title(\"Original Test Counts\")\n",
    "plt.xlabel(\"Class\"); plt.ylabel(\"Count\")\n",
    "plt.tight_layout(); plt.show()"
   ],
   "id": "a9e4ebb05976ef5",
   "outputs": [
    {
     "name": "stderr",
     "output_type": "stream",
     "text": [
      "-"
     ]
    },
    {
     "name": "stdout",
     "output_type": "stream",
     "text": [
      "Opening dataset in read-only mode as you don't have write permissions.\n"
     ]
    },
    {
     "name": "stderr",
     "output_type": "stream",
     "text": [
      "/"
     ]
    },
    {
     "name": "stdout",
     "output_type": "stream",
     "text": [
      "This dataset can be visualized in Jupyter Notebook by ds.visualize() or at https://app.activeloop.ai/activeloop/nih-chest-xray-train\n",
      "\n"
     ]
    },
    {
     "name": "stderr",
     "output_type": "stream",
     "text": [
      "-"
     ]
    },
    {
     "name": "stdout",
     "output_type": "stream",
     "text": [
      "hub://activeloop/nih-chest-xray-train loaded successfully.\n",
      "\n"
     ]
    },
    {
     "name": "stderr",
     "output_type": "stream",
     "text": [
      "\\"
     ]
    },
    {
     "name": "stdout",
     "output_type": "stream",
     "text": [
      "Opening dataset in read-only mode as you don't have write permissions.\n"
     ]
    },
    {
     "name": "stderr",
     "output_type": "stream",
     "text": [
      "/"
     ]
    },
    {
     "name": "stdout",
     "output_type": "stream",
     "text": [
      "This dataset can be visualized in Jupyter Notebook by ds.visualize() or at https://app.activeloop.ai/activeloop/nih-chest-xray-test\n",
      "\n"
     ]
    },
    {
     "name": "stderr",
     "output_type": "stream",
     "text": [
      "|"
     ]
    },
    {
     "name": "stdout",
     "output_type": "stream",
     "text": [
      "hub://activeloop/nih-chest-xray-test loaded successfully.\n",
      "\n"
     ]
    },
    {
     "name": "stderr",
     "output_type": "stream",
     "text": [
      " \r"
     ]
    },
    {
     "name": "stdout",
     "output_type": "stream",
     "text": [
      "Available tensors: ['findings', 'images', 'metadata/follow_up_num', 'metadata/orig_img_h', 'metadata/orig_img_pix_spacing_x', 'metadata/orig_img_pix_spacing_y', 'metadata/orig_img_w', 'metadata/patient_age', 'metadata/patient_gender', 'metadata/patient_id', 'metadata/view_position']\n"
     ]
    },
    {
     "data": {
      "text/plain": [
       "<Figure size 1200x500 with 2 Axes>"
      ],
      "image/png": "[encoded data removed]"
     },
     "metadata": {},
     "output_type": "display_data"
    }
   ],
   "execution_count": 35
  },
  {
   "metadata": {
    "ExecuteTime": {
     "end_time": "2025-04-21T16:18:35.438894Z",
     "start_time": "2025-04-21T16:18:33.251769Z"
    }
   },
   "cell_type": "code",
   "source": [
    "def drop_class_zero(ds, drop_n, field='findings'):\n",
    "    idx0 = [i for i, lbl in enumerate(ds[field].numpy(aslist=True)) if 0 in lbl]\n",
    "    drop = set(random.sample(idx0, drop_n))\n",
    "    keep = [i for i in range(len(ds)) if i not in drop]\n",
    "    return ds[keep]\n",
    "\n",
    "ds_train_pruned = drop_class_zero(ds_train, 45000, label_field)\n",
    "ds_test_pruned  = drop_class_zero(ds_test,  5000,  label_field)\n",
    "\n",
    "print(f\"Pruned train: {len(ds_train_pruned)} samples\")\n",
    "print(f\"Pruned test:  {len(ds_test_pruned)} samples\")"
   ],
   "id": "1b993489646fbd89",
   "outputs": [
    {
     "name": "stdout",
     "output_type": "stream",
     "text": [
      "Pruned train: 41524 samples\n",
      "Pruned test:  20596 samples\n"
     ]
    }
   ],
   "execution_count": 36
  },
  {
   "metadata": {
    "ExecuteTime": {
     "end_time": "2025-04-21T16:18:36.319399Z",
     "start_time": "2025-04-21T16:18:35.503918Z"
    }
   },
   "cell_type": "code",
   "source": [
    "train_pruned = get_class_counts(ds_train_pruned, label_field, n_classes)\n",
    "test_pruned  = get_class_counts(ds_test_pruned,  label_field, n_classes)\n",
    "\n",
    "plt.figure(figsize=(12,5))\n",
    "plt.subplot(1,2,1)\n",
    "plt.bar(range(n_classes), train_pruned)\n",
    "plt.title(\"Pruned Train Counts\")\n",
    "plt.xlabel(\"Class\"); plt.ylabel(\"Count\")\n",
    "plt.subplot(1,2,2)\n",
    "plt.bar(range(n_classes), test_pruned)\n",
    "plt.title(\"Pruned Test Counts\")\n",
    "plt.xlabel(\"Class\"); plt.ylabel(\"Count\")\n",
    "plt.tight_layout(); plt.show()"
   ],
   "id": "881691e8aaf49c67",
   "outputs": [
    {
     "data": {
      "text/plain": [
       "<Figure size 1200x500 with 2 Axes>"
      ],
      "image/png": "[encoded data removed]"
     },
     "metadata": {},
     "output_type": "display_data"
    }
   ],
   "execution_count": 37
  },
  {
   "metadata": {
    "ExecuteTime": {
     "end_time": "2025-04-21T16:18:50.602423Z",
     "start_time": "2025-04-21T16:18:42.195751Z"
    }
   },
   "cell_type": "code",
   "source": [
    "transform = transforms.Compose([\n",
    "    transforms.Grayscale(num_output_channels=3),\n",
    "    transforms.Resize((224,224)),\n",
    "    transforms.ToTensor(),\n",
    "    transforms.Normalize([0.485,0.456,0.406],[0.229,0.224,0.225])\n",
    "])\n",
    "\n",
    "def get_loader(ds, cls, batch_size=32, shuffle=True):\n",
    "    def collate_fn(batch):\n",
    "        imgs = torch.stack([transform(item['images']) for item in batch])\n",
    "        labs = torch.tensor(\n",
    "            [1.0 if cls in item['findings'] else 0.0 for item in batch],\n",
    "            dtype=torch.float32\n",
    "        )\n",
    "        return imgs, labs\n",
    "\n",
    "    return ds.pytorch(\n",
    "        batch_size=batch_size,\n",
    "        shuffle=shuffle,\n",
    "        decode_method={\"images\": \"pil\"},\n",
    "        collate_fn=collate_fn,\n",
    "        num_workers=0\n",
    "    )\n",
    "\n",
    "# Sanity check\n",
    "train_loader0 = get_loader(ds_train_pruned, 0)\n",
    "print(\"Batches for class 0:\", len(train_loader0))"
   ],
   "id": "864ef3d3dffb81c",
   "outputs": [
    {
     "name": "stdout",
     "output_type": "stream",
     "text": [
      "Batches for class 0: 1298\n"
     ]
    }
   ],
   "execution_count": 38
  },
  {
   "metadata": {
    "ExecuteTime": {
     "end_time": "2025-04-21T16:18:52.536294Z",
     "start_time": "2025-04-21T16:18:50.665267Z"
    }
   },
   "cell_type": "code",
   "source": [
    "def create_vit():\n",
    "    model = timm.create_model('vit_base_patch16_224', pretrained=True)\n",
    "    model.head = nn.Linear(model.head.in_features, 1)\n",
    "    return model.to(device)\n",
    "\n",
    "model = create_vit()"
   ],
   "id": "9901e991d6dd8b77",
   "outputs": [],
   "execution_count": 39
  },
  {
   "metadata": {
    "ExecuteTime": {
     "end_time": "2025-04-21T16:19:04.069683Z",
     "start_time": "2025-04-21T16:19:04.063682Z"
    }
   },
   "cell_type": "code",
   "source": [
    "loss_fn = nn.BCEWithLogitsLoss()\n",
    "\n",
    "def train_epoch(model, loader, optimizer):\n",
    "    model.train()\n",
    "    losses, probs, trues = [], [], []\n",
    "    for imgs, labs in tqdm(loader):\n",
    "        imgs, labs = imgs.to(device), labs.to(device)\n",
    "        optimizer.zero_grad()\n",
    "        out = model(imgs).squeeze(1)\n",
    "        loss = loss_fn(out, labs)\n",
    "        loss.backward()\n",
    "        optimizer.step()\n",
    "        losses.append(loss.item())\n",
    "        p = torch.sigmoid(out).detach().cpu().numpy()\n",
    "        losses.append(loss.item())\n",
    "        probs.extend(p)\n",
    "        trues.extend(labs.detach().cpu().numpy())\n",
    "    return np.mean(losses), np.array(probs), np.array(trues)\n",
    "\n",
    "def eval_epoch(model, loader):\n",
    "    model.eval()\n",
    "    losses, probs, trues = [], [], []\n",
    "    with torch.no_grad():\n",
    "        for imgs, labs in loader:\n",
    "            imgs, labs = imgs.to(device), labs.to(device)\n",
    "            out = model(imgs).squeeze(1)\n",
    "            loss = loss_fn(out, labs)\n",
    "            losses.append(loss.item())\n",
    "            p = torch.sigmoid(out).detach().cpu().numpy()\n",
    "            probs.extend(p)\n",
    "            trues.extend(labs.detach().cpu().numpy())\n",
    "    return np.mean(losses), np.array(probs), np.array(trues)"
   ],
   "id": "dfb7100997699e12",
   "outputs": [],
   "execution_count": 40
  },
  {
   "metadata": {
    "ExecuteTime": {
     "end_time": "2025-04-21T16:19:15.483814Z",
     "start_time": "2025-04-21T16:19:15.478561Z"
    }
   },
   "cell_type": "code",
   "source": [
    "def compute_metrics(probs, truths, thresh=0.5):\n",
    "    preds = (probs >= thresh).astype(int)\n",
    "    return {\n",
    "        'acc'     : accuracy_score(truths, preds),\n",
    "        'f1_micro': f1_score(truths, preds, average='micro'),\n",
    "        'f1_macro': f1_score(truths, preds, average='macro'),\n",
    "        'hamming' : hamming_loss(truths, preds),\n",
    "        'auc'     : roc_auc_score(truths, probs),\n",
    "    }\n",
    "\n",
    "def plot_history(hist, title):\n",
    "    plt.figure(figsize=(12,4))\n",
    "    plt.subplot(1,2,1)\n",
    "    plt.plot(hist['train_loss'], label='train_loss')\n",
    "    plt.plot(hist['val_loss'],   label='val_loss')\n",
    "    plt.title(f\"{title} Loss\"); plt.legend()\n",
    "    plt.subplot(1,2,2)\n",
    "    plt.plot(hist['train_acc'], label='train_acc')\n",
    "    plt.plot(hist['val_acc'],   label='val_acc')\n",
    "    plt.title(f\"{title} Acc\"); plt.legend()\n",
    "    plt.show()\n"
   ],
   "id": "418567fac8b1ac6f",
   "outputs": [],
   "execution_count": 41
  },
  {
   "metadata": {
    "ExecuteTime": {
     "end_time": "2025-04-22T14:16:17.991187Z",
     "start_time": "2025-04-21T16:19:28.637308Z"
    }
   },
   "cell_type": "code",
   "source": [
    "cls = 0\n",
    "train_loader = get_loader(ds_train_pruned, cls)\n",
    "val_loader   = get_loader(ds_test_pruned,  cls, shuffle=False)\n",
    "\n",
    "model     = create_vit()\n",
    "optimizer = optim.Adam(model.parameters(), lr=1e-4)\n",
    "epochs    = 5\n",
    "\n",
    "history = {'train_loss':[], 'val_loss':[], 'train_acc':[], 'val_acc':[]}\n",
    "\n",
    "for ep in range(1, epochs+1):\n",
    "    t_loss, t_probs, t_lbls = train_epoch(model, train_loader, optimizer)\n",
    "    v_loss, v_probs, v_lbls = eval_epoch(model, val_loader)\n",
    "\n",
    "    m_tr = compute_metrics(t_probs, t_lbls)\n",
    "    m_v  = compute_metrics(v_probs, v_lbls)\n",
    "\n",
    "    history['train_loss'].append(t_loss)\n",
    "    history['val_loss'].append(v_loss)\n",
    "    history['train_acc'].append(m_tr['acc'])\n",
    "    history['val_acc'].append(m_v['acc'])\n",
    "\n",
    "    print(f\"Epoch {ep}/{epochs} — \"\n",
    "          f\"TLoss {t_loss:.3f}, VLoss {v_loss:.3f}, \"\n",
    "          f\"TAcc {m_tr['acc']:.3f}, VAcc {m_v['acc']:.3f}, \"\n",
    "          f\"F1 {m_v['f1_micro']:.3f}, AUC {m_v['auc']:.3f}\")\n",
    "\n",
    "plot_history(history, title=f\"Class {cls}\")\n"
   ],
   "id": "7c673d3bfc6b5565",
   "outputs": [
    {
     "name": "stderr",
     "output_type": "stream",
     "text": [
      " 93%|█████████▎| 1204/1298 [2:07:42<18:41, 11.93s/it]  /Users/craigroberts/Documents/Coding/Machine_learning/Chest-X-R-AI/.venv/lib/python3.11/site-packages/deeplake/util/warnings.py:7: UserWarning: Encountered connection error, retry 1 out of 5\n",
      "  warnings.warn(*args, **kwargs)\n",
      "/Users/craigroberts/Documents/Coding/Machine_learning/Chest-X-R-AI/.venv/lib/python3.11/site-packages/deeplake/util/warnings.py:7: UserWarning: Connection re-established after 1 retry.\n",
      "  warnings.warn(*args, **kwargs)\n",
      " 94%|█████████▍| 1221/1298 [3:46:42<44:44, 34.86s/it]     /Users/craigroberts/Documents/Coding/Machine_learning/Chest-X-R-AI/.venv/lib/python3.11/site-packages/deeplake/util/warnings.py:7: UserWarning: Encountered connection error, retry 1 out of 5\n",
      "  warnings.warn(*args, **kwargs)\n",
      "/Users/craigroberts/Documents/Coding/Machine_learning/Chest-X-R-AI/.venv/lib/python3.11/site-packages/deeplake/util/warnings.py:7: UserWarning: Connection re-established after 1 retry.\n",
      "  warnings.warn(*args, **kwargs)\n",
      "100%|██████████| 1298/1298 [3:59:50<00:00, 11.09s/it]  \n"
     ]
    },
    {
     "name": "stdout",
     "output_type": "stream",
     "text": [
      "Epoch 1/5 — TLoss 0.400, VLoss 0.588, TAcc 0.866, VAcc 0.764, F1 0.764, AUC 0.620\n"
     ]
    },
    {
     "name": "stderr",
     "output_type": "stream",
     "text": [
      "100%|██████████| 1298/1298 [2:14:56<00:00,  6.24s/it] \n"
     ]
    },
    {
     "name": "stdout",
     "output_type": "stream",
     "text": [
      "Epoch 2/5 — TLoss 0.383, VLoss 0.602, TAcc 0.868, VAcc 0.764, F1 0.764, AUC 0.626\n"
     ]
    },
    {
     "name": "stderr",
     "output_type": "stream",
     "text": [
      " 66%|██████▋   | 862/1298 [1:56:39<1:04:06,  8.82s/it]/Users/craigroberts/Documents/Coding/Machine_learning/Chest-X-R-AI/.venv/lib/python3.11/site-packages/deeplake/util/warnings.py:7: UserWarning: Encountered connection error, retry 1 out of 5\n",
      "  warnings.warn(*args, **kwargs)\n",
      "/Users/craigroberts/Documents/Coding/Machine_learning/Chest-X-R-AI/.venv/lib/python3.11/site-packages/deeplake/util/warnings.py:7: UserWarning: Connection re-established after 1 retry.\n",
      "  warnings.warn(*args, **kwargs)\n",
      "100%|██████████| 1298/1298 [3:27:35<00:00,  9.60s/it]    \n"
     ]
    },
    {
     "name": "stdout",
     "output_type": "stream",
     "text": [
      "Epoch 3/5 — TLoss 0.374, VLoss 0.754, TAcc 0.868, VAcc 0.764, F1 0.764, AUC 0.615\n"
     ]
    },
    {
     "name": "stderr",
     "output_type": "stream",
     "text": [
      " 60%|██████    | 785/1298 [1:33:27<4:04:01, 28.54s/it]  /Users/craigroberts/Documents/Coding/Machine_learning/Chest-X-R-AI/.venv/lib/python3.11/site-packages/deeplake/util/warnings.py:7: UserWarning: Encountered connection error, retry 1 out of 5\n",
      "  warnings.warn(*args, **kwargs)\n",
      "/Users/craigroberts/Documents/Coding/Machine_learning/Chest-X-R-AI/.venv/lib/python3.11/site-packages/deeplake/util/warnings.py:7: UserWarning: Connection re-established after 1 retry.\n",
      "  warnings.warn(*args, **kwargs)\n",
      " 65%|██████▍   | 840/1298 [4:24:31<1:28:32, 11.60s/it]    /Users/craigroberts/Documents/Coding/Machine_learning/Chest-X-R-AI/.venv/lib/python3.11/site-packages/deeplake/util/warnings.py:7: UserWarning: Encountered connection error, retry 1 out of 5\n",
      "  warnings.warn(*args, **kwargs)\n",
      "/Users/craigroberts/Documents/Coding/Machine_learning/Chest-X-R-AI/.venv/lib/python3.11/site-packages/deeplake/util/warnings.py:7: UserWarning: Connection re-established after 1 retry.\n",
      "  warnings.warn(*args, **kwargs)\n",
      " 66%|██████▌   | 859/1298 [6:21:00<2:55:49, 24.03s/it]    /Users/craigroberts/Documents/Coding/Machine_learning/Chest-X-R-AI/.venv/lib/python3.11/site-packages/deeplake/util/warnings.py:7: UserWarning: Encountered connection error, retry 1 out of 5\n",
      "  warnings.warn(*args, **kwargs)\n",
      "/Users/craigroberts/Documents/Coding/Machine_learning/Chest-X-R-AI/.venv/lib/python3.11/site-packages/deeplake/util/warnings.py:7: UserWarning: Connection re-established after 1 retry.\n",
      "  warnings.warn(*args, **kwargs)\n",
      "100%|██████████| 1298/1298 [8:51:29<00:00, 24.57s/it]     \n"
     ]
    },
    {
     "ename": "KeyboardInterrupt",
     "evalue": "",
     "output_type": "error",
     "traceback": [
      "\u001B[31m---------------------------------------------------------------------------\u001B[39m",
      "\u001B[31mKeyboardInterrupt\u001B[39m                         Traceback (most recent call last)",
      "\u001B[36mCell\u001B[39m\u001B[36m \u001B[39m\u001B[32mIn[42]\u001B[39m\u001B[32m, line 13\u001B[39m\n\u001B[32m     11\u001B[39m \u001B[38;5;28;01mfor\u001B[39;00m ep \u001B[38;5;129;01min\u001B[39;00m \u001B[38;5;28mrange\u001B[39m(\u001B[32m1\u001B[39m, epochs+\u001B[32m1\u001B[39m):\n\u001B[32m     12\u001B[39m     t_loss, t_probs, t_lbls = train_epoch(model, train_loader, optimizer)\n\u001B[32m---> \u001B[39m\u001B[32m13\u001B[39m     v_loss, v_probs, v_lbls = \u001B[43meval_epoch\u001B[49m\u001B[43m(\u001B[49m\u001B[43mmodel\u001B[49m\u001B[43m,\u001B[49m\u001B[43m \u001B[49m\u001B[43mval_loader\u001B[49m\u001B[43m)\u001B[49m\n\u001B[32m     15\u001B[39m     m_tr = compute_metrics(t_probs, t_lbls)\n\u001B[32m     16\u001B[39m     m_v  = compute_metrics(v_probs, v_lbls)\n",
      "\u001B[36mCell\u001B[39m\u001B[36m \u001B[39m\u001B[32mIn[40]\u001B[39m\u001B[32m, line 26\u001B[39m, in \u001B[36meval_epoch\u001B[39m\u001B[34m(model, loader)\u001B[39m\n\u001B[32m     24\u001B[39m \u001B[38;5;28;01mfor\u001B[39;00m imgs, labs \u001B[38;5;129;01min\u001B[39;00m loader:\n\u001B[32m     25\u001B[39m     imgs, labs = imgs.to(device), labs.to(device)\n\u001B[32m---> \u001B[39m\u001B[32m26\u001B[39m     out = \u001B[43mmodel\u001B[49m\u001B[43m(\u001B[49m\u001B[43mimgs\u001B[49m\u001B[43m)\u001B[49m.squeeze(\u001B[32m1\u001B[39m)\n\u001B[32m     27\u001B[39m     loss = loss_fn(out, labs)\n\u001B[32m     28\u001B[39m     losses.append(loss.item())\n",
      "\u001B[36mFile \u001B[39m\u001B[32m~/Documents/Coding/Machine_learning/Chest-X-R-AI/.venv/lib/python3.11/site-packages/torch/nn/modules/module.py:1739\u001B[39m, in \u001B[36mModule._wrapped_call_impl\u001B[39m\u001B[34m(self, *args, **kwargs)\u001B[39m\n\u001B[32m   1737\u001B[39m     \u001B[38;5;28;01mreturn\u001B[39;00m \u001B[38;5;28mself\u001B[39m._compiled_call_impl(*args, **kwargs)  \u001B[38;5;66;03m# type: ignore[misc]\u001B[39;00m\n\u001B[32m   1738\u001B[39m \u001B[38;5;28;01melse\u001B[39;00m:\n\u001B[32m-> \u001B[39m\u001B[32m1739\u001B[39m     \u001B[38;5;28;01mreturn\u001B[39;00m \u001B[38;5;28;43mself\u001B[39;49m\u001B[43m.\u001B[49m\u001B[43m_call_impl\u001B[49m\u001B[43m(\u001B[49m\u001B[43m*\u001B[49m\u001B[43margs\u001B[49m\u001B[43m,\u001B[49m\u001B[43m \u001B[49m\u001B[43m*\u001B[49m\u001B[43m*\u001B[49m\u001B[43mkwargs\u001B[49m\u001B[43m)\u001B[49m\n",
      "\u001B[36mFile \u001B[39m\u001B[32m~/Documents/Coding/Machine_learning/Chest-X-R-AI/.venv/lib/python3.11/site-packages/torch/nn/modules/module.py:1750\u001B[39m, in \u001B[36mModule._call_impl\u001B[39m\u001B[34m(self, *args, **kwargs)\u001B[39m\n\u001B[32m   1745\u001B[39m \u001B[38;5;66;03m# If we don't have any hooks, we want to skip the rest of the logic in\u001B[39;00m\n\u001B[32m   1746\u001B[39m \u001B[38;5;66;03m# this function, and just call forward.\u001B[39;00m\n\u001B[32m   1747\u001B[39m \u001B[38;5;28;01mif\u001B[39;00m \u001B[38;5;129;01mnot\u001B[39;00m (\u001B[38;5;28mself\u001B[39m._backward_hooks \u001B[38;5;129;01mor\u001B[39;00m \u001B[38;5;28mself\u001B[39m._backward_pre_hooks \u001B[38;5;129;01mor\u001B[39;00m \u001B[38;5;28mself\u001B[39m._forward_hooks \u001B[38;5;129;01mor\u001B[39;00m \u001B[38;5;28mself\u001B[39m._forward_pre_hooks\n\u001B[32m   1748\u001B[39m         \u001B[38;5;129;01mor\u001B[39;00m _global_backward_pre_hooks \u001B[38;5;129;01mor\u001B[39;00m _global_backward_hooks\n\u001B[32m   1749\u001B[39m         \u001B[38;5;129;01mor\u001B[39;00m _global_forward_hooks \u001B[38;5;129;01mor\u001B[39;00m _global_forward_pre_hooks):\n\u001B[32m-> \u001B[39m\u001B[32m1750\u001B[39m     \u001B[38;5;28;01mreturn\u001B[39;00m \u001B[43mforward_call\u001B[49m\u001B[43m(\u001B[49m\u001B[43m*\u001B[49m\u001B[43margs\u001B[49m\u001B[43m,\u001B[49m\u001B[43m \u001B[49m\u001B[43m*\u001B[49m\u001B[43m*\u001B[49m\u001B[43mkwargs\u001B[49m\u001B[43m)\u001B[49m\n\u001B[32m   1752\u001B[39m result = \u001B[38;5;28;01mNone\u001B[39;00m\n\u001B[32m   1753\u001B[39m called_always_called_hooks = \u001B[38;5;28mset\u001B[39m()\n",
      "\u001B[36mFile \u001B[39m\u001B[32m~/Documents/Coding/Machine_learning/Chest-X-R-AI/.venv/lib/python3.11/site-packages/timm/models/vision_transformer.py:853\u001B[39m, in \u001B[36mVisionTransformer.forward\u001B[39m\u001B[34m(self, x)\u001B[39m\n\u001B[32m    852\u001B[39m \u001B[38;5;28;01mdef\u001B[39;00m\u001B[38;5;250m \u001B[39m\u001B[34mforward\u001B[39m(\u001B[38;5;28mself\u001B[39m, x: torch.Tensor) -> torch.Tensor:\n\u001B[32m--> \u001B[39m\u001B[32m853\u001B[39m     x = \u001B[38;5;28;43mself\u001B[39;49m\u001B[43m.\u001B[49m\u001B[43mforward_features\u001B[49m\u001B[43m(\u001B[49m\u001B[43mx\u001B[49m\u001B[43m)\u001B[49m\n\u001B[32m    854\u001B[39m     x = \u001B[38;5;28mself\u001B[39m.forward_head(x)\n\u001B[32m    855\u001B[39m     \u001B[38;5;28;01mreturn\u001B[39;00m x\n",
      "\u001B[36mFile \u001B[39m\u001B[32m~/Documents/Coding/Machine_learning/Chest-X-R-AI/.venv/lib/python3.11/site-packages/timm/models/vision_transformer.py:834\u001B[39m, in \u001B[36mVisionTransformer.forward_features\u001B[39m\u001B[34m(self, x)\u001B[39m\n\u001B[32m    832\u001B[39m     x = checkpoint_seq(\u001B[38;5;28mself\u001B[39m.blocks, x)\n\u001B[32m    833\u001B[39m \u001B[38;5;28;01melse\u001B[39;00m:\n\u001B[32m--> \u001B[39m\u001B[32m834\u001B[39m     x = \u001B[38;5;28;43mself\u001B[39;49m\u001B[43m.\u001B[49m\u001B[43mblocks\u001B[49m\u001B[43m(\u001B[49m\u001B[43mx\u001B[49m\u001B[43m)\u001B[49m\n\u001B[32m    835\u001B[39m x = \u001B[38;5;28mself\u001B[39m.norm(x)\n\u001B[32m    836\u001B[39m \u001B[38;5;28;01mreturn\u001B[39;00m x\n",
      "\u001B[36mFile \u001B[39m\u001B[32m~/Documents/Coding/Machine_learning/Chest-X-R-AI/.venv/lib/python3.11/site-packages/torch/nn/modules/module.py:1739\u001B[39m, in \u001B[36mModule._wrapped_call_impl\u001B[39m\u001B[34m(self, *args, **kwargs)\u001B[39m\n\u001B[32m   1737\u001B[39m     \u001B[38;5;28;01mreturn\u001B[39;00m \u001B[38;5;28mself\u001B[39m._compiled_call_impl(*args, **kwargs)  \u001B[38;5;66;03m# type: ignore[misc]\u001B[39;00m\n\u001B[32m   1738\u001B[39m \u001B[38;5;28;01melse\u001B[39;00m:\n\u001B[32m-> \u001B[39m\u001B[32m1739\u001B[39m     \u001B[38;5;28;01mreturn\u001B[39;00m \u001B[38;5;28;43mself\u001B[39;49m\u001B[43m.\u001B[49m\u001B[43m_call_impl\u001B[49m\u001B[43m(\u001B[49m\u001B[43m*\u001B[49m\u001B[43margs\u001B[49m\u001B[43m,\u001B[49m\u001B[43m \u001B[49m\u001B[43m*\u001B[49m\u001B[43m*\u001B[49m\u001B[43mkwargs\u001B[49m\u001B[43m)\u001B[49m\n",
      "\u001B[36mFile \u001B[39m\u001B[32m~/Documents/Coding/Machine_learning/Chest-X-R-AI/.venv/lib/python3.11/site-packages/torch/nn/modules/module.py:1750\u001B[39m, in \u001B[36mModule._call_impl\u001B[39m\u001B[34m(self, *args, **kwargs)\u001B[39m\n\u001B[32m   1745\u001B[39m \u001B[38;5;66;03m# If we don't have any hooks, we want to skip the rest of the logic in\u001B[39;00m\n\u001B[32m   1746\u001B[39m \u001B[38;5;66;03m# this function, and just call forward.\u001B[39;00m\n\u001B[32m   1747\u001B[39m \u001B[38;5;28;01mif\u001B[39;00m \u001B[38;5;129;01mnot\u001B[39;00m (\u001B[38;5;28mself\u001B[39m._backward_hooks \u001B[38;5;129;01mor\u001B[39;00m \u001B[38;5;28mself\u001B[39m._backward_pre_hooks \u001B[38;5;129;01mor\u001B[39;00m \u001B[38;5;28mself\u001B[39m._forward_hooks \u001B[38;5;129;01mor\u001B[39;00m \u001B[38;5;28mself\u001B[39m._forward_pre_hooks\n\u001B[32m   1748\u001B[39m         \u001B[38;5;129;01mor\u001B[39;00m _global_backward_pre_hooks \u001B[38;5;129;01mor\u001B[39;00m _global_backward_hooks\n\u001B[32m   1749\u001B[39m         \u001B[38;5;129;01mor\u001B[39;00m _global_forward_hooks \u001B[38;5;129;01mor\u001B[39;00m _global_forward_pre_hooks):\n\u001B[32m-> \u001B[39m\u001B[32m1750\u001B[39m     \u001B[38;5;28;01mreturn\u001B[39;00m \u001B[43mforward_call\u001B[49m\u001B[43m(\u001B[49m\u001B[43m*\u001B[49m\u001B[43margs\u001B[49m\u001B[43m,\u001B[49m\u001B[43m \u001B[49m\u001B[43m*\u001B[49m\u001B[43m*\u001B[49m\u001B[43mkwargs\u001B[49m\u001B[43m)\u001B[49m\n\u001B[32m   1752\u001B[39m result = \u001B[38;5;28;01mNone\u001B[39;00m\n\u001B[32m   1753\u001B[39m called_always_called_hooks = \u001B[38;5;28mset\u001B[39m()\n",
      "\u001B[36mFile \u001B[39m\u001B[32m~/Documents/Coding/Machine_learning/Chest-X-R-AI/.venv/lib/python3.11/site-packages/torch/nn/modules/container.py:250\u001B[39m, in \u001B[36mSequential.forward\u001B[39m\u001B[34m(self, input)\u001B[39m\n\u001B[32m    248\u001B[39m \u001B[38;5;28;01mdef\u001B[39;00m\u001B[38;5;250m \u001B[39m\u001B[34mforward\u001B[39m(\u001B[38;5;28mself\u001B[39m, \u001B[38;5;28minput\u001B[39m):\n\u001B[32m    249\u001B[39m     \u001B[38;5;28;01mfor\u001B[39;00m module \u001B[38;5;129;01min\u001B[39;00m \u001B[38;5;28mself\u001B[39m:\n\u001B[32m--> \u001B[39m\u001B[32m250\u001B[39m         \u001B[38;5;28minput\u001B[39m = \u001B[43mmodule\u001B[49m\u001B[43m(\u001B[49m\u001B[38;5;28;43minput\u001B[39;49m\u001B[43m)\u001B[49m\n\u001B[32m    251\u001B[39m     \u001B[38;5;28;01mreturn\u001B[39;00m \u001B[38;5;28minput\u001B[39m\n",
      "\u001B[36mFile \u001B[39m\u001B[32m~/Documents/Coding/Machine_learning/Chest-X-R-AI/.venv/lib/python3.11/site-packages/torch/nn/modules/module.py:1739\u001B[39m, in \u001B[36mModule._wrapped_call_impl\u001B[39m\u001B[34m(self, *args, **kwargs)\u001B[39m\n\u001B[32m   1737\u001B[39m     \u001B[38;5;28;01mreturn\u001B[39;00m \u001B[38;5;28mself\u001B[39m._compiled_call_impl(*args, **kwargs)  \u001B[38;5;66;03m# type: ignore[misc]\u001B[39;00m\n\u001B[32m   1738\u001B[39m \u001B[38;5;28;01melse\u001B[39;00m:\n\u001B[32m-> \u001B[39m\u001B[32m1739\u001B[39m     \u001B[38;5;28;01mreturn\u001B[39;00m \u001B[38;5;28;43mself\u001B[39;49m\u001B[43m.\u001B[49m\u001B[43m_call_impl\u001B[49m\u001B[43m(\u001B[49m\u001B[43m*\u001B[49m\u001B[43margs\u001B[49m\u001B[43m,\u001B[49m\u001B[43m \u001B[49m\u001B[43m*\u001B[49m\u001B[43m*\u001B[49m\u001B[43mkwargs\u001B[49m\u001B[43m)\u001B[49m\n",
      "\u001B[36mFile \u001B[39m\u001B[32m~/Documents/Coding/Machine_learning/Chest-X-R-AI/.venv/lib/python3.11/site-packages/torch/nn/modules/module.py:1750\u001B[39m, in \u001B[36mModule._call_impl\u001B[39m\u001B[34m(self, *args, **kwargs)\u001B[39m\n\u001B[32m   1745\u001B[39m \u001B[38;5;66;03m# If we don't have any hooks, we want to skip the rest of the logic in\u001B[39;00m\n\u001B[32m   1746\u001B[39m \u001B[38;5;66;03m# this function, and just call forward.\u001B[39;00m\n\u001B[32m   1747\u001B[39m \u001B[38;5;28;01mif\u001B[39;00m \u001B[38;5;129;01mnot\u001B[39;00m (\u001B[38;5;28mself\u001B[39m._backward_hooks \u001B[38;5;129;01mor\u001B[39;00m \u001B[38;5;28mself\u001B[39m._backward_pre_hooks \u001B[38;5;129;01mor\u001B[39;00m \u001B[38;5;28mself\u001B[39m._forward_hooks \u001B[38;5;129;01mor\u001B[39;00m \u001B[38;5;28mself\u001B[39m._forward_pre_hooks\n\u001B[32m   1748\u001B[39m         \u001B[38;5;129;01mor\u001B[39;00m _global_backward_pre_hooks \u001B[38;5;129;01mor\u001B[39;00m _global_backward_hooks\n\u001B[32m   1749\u001B[39m         \u001B[38;5;129;01mor\u001B[39;00m _global_forward_hooks \u001B[38;5;129;01mor\u001B[39;00m _global_forward_pre_hooks):\n\u001B[32m-> \u001B[39m\u001B[32m1750\u001B[39m     \u001B[38;5;28;01mreturn\u001B[39;00m \u001B[43mforward_call\u001B[49m\u001B[43m(\u001B[49m\u001B[43m*\u001B[49m\u001B[43margs\u001B[49m\u001B[43m,\u001B[49m\u001B[43m \u001B[49m\u001B[43m*\u001B[49m\u001B[43m*\u001B[49m\u001B[43mkwargs\u001B[49m\u001B[43m)\u001B[49m\n\u001B[32m   1752\u001B[39m result = \u001B[38;5;28;01mNone\u001B[39;00m\n\u001B[32m   1753\u001B[39m called_always_called_hooks = \u001B[38;5;28mset\u001B[39m()\n",
      "\u001B[36mFile \u001B[39m\u001B[32m~/Documents/Coding/Machine_learning/Chest-X-R-AI/.venv/lib/python3.11/site-packages/timm/models/vision_transformer.py:170\u001B[39m, in \u001B[36mBlock.forward\u001B[39m\u001B[34m(self, x)\u001B[39m\n\u001B[32m    168\u001B[39m \u001B[38;5;28;01mdef\u001B[39;00m\u001B[38;5;250m \u001B[39m\u001B[34mforward\u001B[39m(\u001B[38;5;28mself\u001B[39m, x: torch.Tensor) -> torch.Tensor:\n\u001B[32m    169\u001B[39m     x = x + \u001B[38;5;28mself\u001B[39m.drop_path1(\u001B[38;5;28mself\u001B[39m.ls1(\u001B[38;5;28mself\u001B[39m.attn(\u001B[38;5;28mself\u001B[39m.norm1(x))))\n\u001B[32m--> \u001B[39m\u001B[32m170\u001B[39m     x = x + \u001B[38;5;28mself\u001B[39m.drop_path2(\u001B[38;5;28mself\u001B[39m.ls2(\u001B[38;5;28;43mself\u001B[39;49m\u001B[43m.\u001B[49m\u001B[43mmlp\u001B[49m\u001B[43m(\u001B[49m\u001B[38;5;28;43mself\u001B[39;49m\u001B[43m.\u001B[49m\u001B[43mnorm2\u001B[49m\u001B[43m(\u001B[49m\u001B[43mx\u001B[49m\u001B[43m)\u001B[49m\u001B[43m)\u001B[49m))\n\u001B[32m    171\u001B[39m     \u001B[38;5;28;01mreturn\u001B[39;00m x\n",
      "\u001B[36mFile \u001B[39m\u001B[32m~/Documents/Coding/Machine_learning/Chest-X-R-AI/.venv/lib/python3.11/site-packages/torch/nn/modules/module.py:1739\u001B[39m, in \u001B[36mModule._wrapped_call_impl\u001B[39m\u001B[34m(self, *args, **kwargs)\u001B[39m\n\u001B[32m   1737\u001B[39m     \u001B[38;5;28;01mreturn\u001B[39;00m \u001B[38;5;28mself\u001B[39m._compiled_call_impl(*args, **kwargs)  \u001B[38;5;66;03m# type: ignore[misc]\u001B[39;00m\n\u001B[32m   1738\u001B[39m \u001B[38;5;28;01melse\u001B[39;00m:\n\u001B[32m-> \u001B[39m\u001B[32m1739\u001B[39m     \u001B[38;5;28;01mreturn\u001B[39;00m \u001B[38;5;28;43mself\u001B[39;49m\u001B[43m.\u001B[49m\u001B[43m_call_impl\u001B[49m\u001B[43m(\u001B[49m\u001B[43m*\u001B[49m\u001B[43margs\u001B[49m\u001B[43m,\u001B[49m\u001B[43m \u001B[49m\u001B[43m*\u001B[49m\u001B[43m*\u001B[49m\u001B[43mkwargs\u001B[49m\u001B[43m)\u001B[49m\n",
      "\u001B[36mFile \u001B[39m\u001B[32m~/Documents/Coding/Machine_learning/Chest-X-R-AI/.venv/lib/python3.11/site-packages/torch/nn/modules/module.py:1750\u001B[39m, in \u001B[36mModule._call_impl\u001B[39m\u001B[34m(self, *args, **kwargs)\u001B[39m\n\u001B[32m   1745\u001B[39m \u001B[38;5;66;03m# If we don't have any hooks, we want to skip the rest of the logic in\u001B[39;00m\n\u001B[32m   1746\u001B[39m \u001B[38;5;66;03m# this function, and just call forward.\u001B[39;00m\n\u001B[32m   1747\u001B[39m \u001B[38;5;28;01mif\u001B[39;00m \u001B[38;5;129;01mnot\u001B[39;00m (\u001B[38;5;28mself\u001B[39m._backward_hooks \u001B[38;5;129;01mor\u001B[39;00m \u001B[38;5;28mself\u001B[39m._backward_pre_hooks \u001B[38;5;129;01mor\u001B[39;00m \u001B[38;5;28mself\u001B[39m._forward_hooks \u001B[38;5;129;01mor\u001B[39;00m \u001B[38;5;28mself\u001B[39m._forward_pre_hooks\n\u001B[32m   1748\u001B[39m         \u001B[38;5;129;01mor\u001B[39;00m _global_backward_pre_hooks \u001B[38;5;129;01mor\u001B[39;00m _global_backward_hooks\n\u001B[32m   1749\u001B[39m         \u001B[38;5;129;01mor\u001B[39;00m _global_forward_hooks \u001B[38;5;129;01mor\u001B[39;00m _global_forward_pre_hooks):\n\u001B[32m-> \u001B[39m\u001B[32m1750\u001B[39m     \u001B[38;5;28;01mreturn\u001B[39;00m \u001B[43mforward_call\u001B[49m\u001B[43m(\u001B[49m\u001B[43m*\u001B[49m\u001B[43margs\u001B[49m\u001B[43m,\u001B[49m\u001B[43m \u001B[49m\u001B[43m*\u001B[49m\u001B[43m*\u001B[49m\u001B[43mkwargs\u001B[49m\u001B[43m)\u001B[49m\n\u001B[32m   1752\u001B[39m result = \u001B[38;5;28;01mNone\u001B[39;00m\n\u001B[32m   1753\u001B[39m called_always_called_hooks = \u001B[38;5;28mset\u001B[39m()\n",
      "\u001B[36mFile \u001B[39m\u001B[32m~/Documents/Coding/Machine_learning/Chest-X-R-AI/.venv/lib/python3.11/site-packages/timm/layers/mlp.py:49\u001B[39m, in \u001B[36mMlp.forward\u001B[39m\u001B[34m(self, x)\u001B[39m\n\u001B[32m     47\u001B[39m x = \u001B[38;5;28mself\u001B[39m.norm(x)\n\u001B[32m     48\u001B[39m x = \u001B[38;5;28mself\u001B[39m.fc2(x)\n\u001B[32m---> \u001B[39m\u001B[32m49\u001B[39m x = \u001B[38;5;28;43mself\u001B[39;49m\u001B[43m.\u001B[49m\u001B[43mdrop2\u001B[49m(x)\n\u001B[32m     50\u001B[39m \u001B[38;5;28;01mreturn\u001B[39;00m x\n",
      "\u001B[36mFile \u001B[39m\u001B[32m~/Documents/Coding/Machine_learning/Chest-X-R-AI/.venv/lib/python3.11/site-packages/torch/nn/modules/module.py:1915\u001B[39m, in \u001B[36mModule.__getattr__\u001B[39m\u001B[34m(self, name)\u001B[39m\n\u001B[32m   1910\u001B[39m         \u001B[38;5;28mself\u001B[39m._backward_pre_hooks = OrderedDict()\n\u001B[32m   1912\u001B[39m \u001B[38;5;66;03m# It is crucial that the return type is not annotated as `Any`, otherwise type checking\u001B[39;00m\n\u001B[32m   1913\u001B[39m \u001B[38;5;66;03m# on `torch.nn.Module` and all its subclasses is largely disabled as a result. See:\u001B[39;00m\n\u001B[32m   1914\u001B[39m \u001B[38;5;66;03m# https://github.com/pytorch/pytorch/pull/115074\u001B[39;00m\n\u001B[32m-> \u001B[39m\u001B[32m1915\u001B[39m \u001B[38;5;28;01mdef\u001B[39;00m\u001B[38;5;250m \u001B[39m\u001B[34m__getattr__\u001B[39m(\u001B[38;5;28mself\u001B[39m, name: \u001B[38;5;28mstr\u001B[39m) -> Union[Tensor, \u001B[33m\"\u001B[39m\u001B[33mModule\u001B[39m\u001B[33m\"\u001B[39m]:\n\u001B[32m   1916\u001B[39m     \u001B[38;5;28;01mif\u001B[39;00m \u001B[33m\"\u001B[39m\u001B[33m_parameters\u001B[39m\u001B[33m\"\u001B[39m \u001B[38;5;129;01min\u001B[39;00m \u001B[38;5;28mself\u001B[39m.\u001B[34m__dict__\u001B[39m:\n\u001B[32m   1917\u001B[39m         _parameters = \u001B[38;5;28mself\u001B[39m.\u001B[34m__dict__\u001B[39m[\u001B[33m\"\u001B[39m\u001B[33m_parameters\u001B[39m\u001B[33m\"\u001B[39m]\n",
      "\u001B[31mKeyboardInterrupt\u001B[39m: "
     ]
    }
   ],
   "execution_count": 42
  },
  {
   "metadata": {},
   "cell_type": "code",
   "outputs": [],
   "execution_count": null,
   "source": [
    "all_metrics = {}\n",
    "for cls in range(15):\n",
    "    tr = get_loader(ds_train_pruned, cls)\n",
    "    vl = get_loader(ds_test_pruned,  cls, shuffle=False)\n",
    "    m  = create_vit()\n",
    "    o  = optim.Adam(m.parameters(), lr=1e-4)\n",
    "    for _ in range(3): train_epoch(m, tr, o)\n",
    "    vloss, vprobs, vtrues = eval_epoch(m, vl)\n",
    "    all_metrics[cls] = compute_metrics(vprobs, vtrues)\n",
    "\n",
    "print(\"Final one‑vs‑all metrics:\", all_metrics)"
   ],
   "id": "ce5acf3437bd41bd"
  },
  {
   "metadata": {},
   "cell_type": "code",
   "outputs": [],
   "execution_count": null,
   "source": "",
   "id": "29d39f495861de3d"
  }
 ],
 "metadata": {
  "kernelspec": {
   "display_name": "Python 3",
   "language": "python",
   "name": "python3"
  },
  "language_info": {
   "codemirror_mode": {
    "name": "ipython",
    "version": 2
   },
   "file_extension": ".py",
   "mimetype": "text/x-python",
   "name": "python",
   "nbconvert_exporter": "python",
   "pygments_lexer": "ipython2",
   "version": "2.7.6"
  }
 },
 "nbformat": 4,
 "nbformat_minor": 5
}
